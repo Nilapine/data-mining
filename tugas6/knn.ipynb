{
 "cells": [
  {
   "cell_type": "markdown",
   "id": "9319801b-e0af-4591-89b3-9bb15758f94e",
   "metadata": {},
   "source": [
    "## Tugas 6 ##"
   ]
  },
  {
   "cell_type": "markdown",
   "id": "44425761-9b22-474f-abf6-9258bbaa06e1",
   "metadata": {},
   "source": [
    "***Import Library yang digunakan***"
   ]
  },
  {
   "cell_type": "code",
   "execution_count": 1,
   "id": "b3cf0b95-0240-487d-b21b-bb4e5e1256f5",
   "metadata": {},
   "outputs": [],
   "source": [
    "import numpy as np\n",
    "import matplotlib.pyplot as plt\n",
    "import pandas as pd"
   ]
  },
  {
   "cell_type": "markdown",
   "id": "5982bbdc-fe35-4cc5-aa14-e9fd5b4332f0",
   "metadata": {},
   "source": [
    "Library yang digunakan untuk contoh diatas adalah library numpy dan pandas."
   ]
  },
  {
   "cell_type": "markdown",
   "id": "483d1e42-7570-4858-a6b9-2a56e0462af6",
   "metadata": {},
   "source": [
    "***Import Dataset***"
   ]
  },
  {
   "cell_type": "code",
   "execution_count": 3,
   "id": "f1786854-b8f1-46ff-bd5a-cb111622c1ff",
   "metadata": {},
   "outputs": [],
   "source": [
    "dataset = pd.read_csv('Social_Network_Ads.csv')\n",
    "X = dataset.iloc[:, [2,3]].values\n",
    "y = dataset.iloc[:,-1].values"
   ]
  },
  {
   "cell_type": "code",
   "execution_count": 4,
   "id": "c770606c-8406-42d4-90f5-ab3feea505fc",
   "metadata": {},
   "outputs": [
    {
     "name": "stdout",
     "output_type": "stream",
     "text": [
      "      User ID  Gender  Age  EstimatedSalary  Purchased\n",
      "0    15624510    Male   19            19000          0\n",
      "1    15810944    Male   35            20000          0\n",
      "2    15668575  Female   26            43000          0\n",
      "3    15603246  Female   27            57000          0\n",
      "4    15804002    Male   19            76000          0\n",
      "..        ...     ...  ...              ...        ...\n",
      "395  15691863  Female   46            41000          1\n",
      "396  15706071    Male   51            23000          1\n",
      "397  15654296  Female   50            20000          1\n",
      "398  15755018    Male   36            33000          0\n",
      "399  15594041  Female   49            36000          1\n",
      "\n",
      "[400 rows x 5 columns]\n"
     ]
    }
   ],
   "source": [
    "print(dataset)"
   ]
  },
  {
   "cell_type": "markdown",
   "id": "7ee46edb-a10f-4965-8e9d-23e4f01014f6",
   "metadata": {},
   "source": [
    "***Splitting the Dataset into the Training set and Test set***"
   ]
  },
  {
   "cell_type": "code",
   "execution_count": 5,
   "id": "f3fd3f5e-9d2b-49db-9b08-846ac1ad7215",
   "metadata": {},
   "outputs": [],
   "source": [
    "from sklearn.model_selection import train_test_split\n",
    "X_train, X_test, y_train, y_test = train_test_split(X,y, test_size = 0.25, random_state = 0)"
   ]
  },
  {
   "cell_type": "code",
   "execution_count": null,
   "id": "8481eacc-aaf8-4c17-b500-f641a6ba345c",
   "metadata": {},
   "outputs": [],
   "source": []
  }
 ],
 "metadata": {
  "kernelspec": {
   "display_name": "Python 3 (ipykernel)",
   "language": "python",
   "name": "python3"
  },
  "language_info": {
   "codemirror_mode": {
    "name": "ipython",
    "version": 3
   },
   "file_extension": ".py",
   "mimetype": "text/x-python",
   "name": "python",
   "nbconvert_exporter": "python",
   "pygments_lexer": "ipython3",
   "version": "3.12.2"
  }
 },
 "nbformat": 4,
 "nbformat_minor": 5
}
