{
 "cells": [
  {
   "cell_type": "markdown",
   "id": "10327341-50c4-4a2c-b3f3-094b498f6da3",
   "metadata": {},
   "source": [
    "# ***Pertemuan 3***\n"
   ]
  },
  {
   "cell_type": "markdown",
   "id": "b8e96aef-e3dc-483d-934e-5143c843df0d",
   "metadata": {},
   "source": [
    "## ***Missing Values***"
   ]
  },
  {
   "cell_type": "markdown",
   "id": "2e91112c-56db-4227-9713-592782a98de1",
   "metadata": {},
   "source": [
    "***Import Library***"
   ]
  },
  {
   "cell_type": "code",
   "execution_count": 1,
   "id": "ef382b97-2be3-4f90-90f8-e107d439e1ed",
   "metadata": {},
   "outputs": [],
   "source": [
    "import numpy as np\n",
    "import matplotlib.pyplot as plt\n",
    "import pandas as pd"
   ]
  },
  {
   "cell_type": "markdown",
   "id": "702de719-5f0b-4b46-a376-175a21eb79e6",
   "metadata": {},
   "source": [
    "***Import Dataset***"
   ]
  },
  {
   "cell_type": "code",
   "execution_count": 2,
   "id": "20535a80-16fd-4015-9454-09a46ac29fa1",
   "metadata": {},
   "outputs": [],
   "source": [
    "dataset=pd.read_csv('Olympics2024.csv')\n",
    "x=dataset.iloc[:, :].values\n",
    "y=dataset.iloc[:, -1].values"
   ]
  },
  {
   "cell_type": "code",
   "execution_count": 3,
   "id": "d7fb3e5e-01fb-4fd4-9e02-894524a4d3e1",
   "metadata": {},
   "outputs": [
    {
     "name": "stdout",
     "output_type": "stream",
     "text": [
      "[[1 'United States' 'US' 40.0 44.0 42 126]\n",
      " [2 'China' 'CHN' 40.0 27.0 24 91]\n",
      " [3 'Japan' 'JPN' 20.0 12.0 13 45]\n",
      " [4 'Australia' 'AUS' 18.0 19.0 16 53]\n",
      " [5 'France' 'FRA' 16.0 26.0 22 64]\n",
      " [6 'Netherlands' 'NED' 15.0 7.0 12 34]\n",
      " [7 'Great Britain' 'GBG' 14.0 22.0 29 65]\n",
      " [8 'South Korea' 'KOR' 13.0 9.0 10 32]\n",
      " [9 'Italy' 'ITA' 12.0 13.0 15 40]\n",
      " [10 'Germany' 'GER' 12.0 13.0 8 33]\n",
      " [11 'New Zealand' 'NZ' 10.0 7.0 3 20]\n",
      " [12 'Canada' 'CAN' 9.0 7.0 11 27]\n",
      " [13 'Uzbekistan' 'UZB' 8.0 2.0 3 13]\n",
      " [14 'Hungary' 'HUN' 6.0 7.0 6 19]\n",
      " [15 'Spain' 'SPA' 5.0 4.0 9 18]\n",
      " [16 'Sweden' 'SWE' 4.0 4.0 3 11]\n",
      " [17 'Kenya' 'KEN' 4.0 2.0 5 11]\n",
      " [18 'Norway' 'NOR' 4.0 1.0 3 8]\n",
      " [19 'Ireland' 'IRE' 4.0 0.0 3 7]\n",
      " [20 'Brazil' 'BRZ' 3.0 7.0 10 20]\n",
      " [21 'Iran' 'IRN' 3.0 6.0 3 12]\n",
      " [22 'Ukraine' 'UKR' 3.0 5.0 4 12]\n",
      " [23 'Romania' 'ROM' 3.0 4.0 2 9]\n",
      " [24 'Georgia' 'GEO' 3.0 3.0 1 7]\n",
      " [25 'Belgium' 'BEL' 3.0 1.0 6 10]\n",
      " [26 'Bulgaria' 'BUL' 3.0 1.0 3 7]\n",
      " [27 'Serbia' 'SER' 3.0 nan 1 5]\n",
      " [28 'Czech Republic' 'CZE' 3.0 0.0 2 5]\n",
      " [29 'Denmark' 'DEN' 2.0 2.0 5 9]\n",
      " [30 'Azerbaijan' 'AZE' 2.0 2.0 3 7]\n",
      " [30 'Croatia' 'CRO' 2.0 2.0 3 7]\n",
      " [32 'Cuba' 'CUB' 2.0 1.0 6 9]\n",
      " [33 'Bahrain' 'BHR' 2.0 1.0 1 4]\n",
      " [34 'Slovenia' 'SLO' 2.0 1.0 0 3]\n",
      " [35 'Chinese Taipei' 'TPE' 2.0 0.0 5 7]\n",
      " [36 'Austria' 'AUT' 2.0 0.0 3 5]\n",
      " [37 'Hong Kong' 'HK' 2.0 0.0 2 4]\n",
      " [37 'Philippines' 'PHI' 2.0 0.0 2 4]\n",
      " [39 'Algeria' 'ALG' 2.0 0.0 1 3]\n",
      " [39 'Indonesia' 'IDN' 2.0 0.0 1 3]\n",
      " [41 'Israel' 'ISR' 1.0 5.0 1 7]\n",
      " [42 'Poland' 'POL' 1.0 4.0 5 10]\n",
      " [43 'Kazakhstan' 'KAZ' 1.0 3.0 3 7]\n",
      " [44 'Jamaica' 'JAM' 1.0 3.0 2 6]\n",
      " [44 'South Africa' 'SA' 1.0 3.0 2 6]\n",
      " [44 'Thailand' 'THA' 1.0 3.0 2 6]\n",
      " [47 'Ethiopia' 'ETH' 1.0 3.0 0 4]\n",
      " [48 'Switzerland' 'SWI' 1.0 2.0 5 8]\n",
      " [49 'Ecuador' 'ECU' 1.0 2.0 2 5]\n",
      " [50 'Portugal' 'POR' 1.0 2.0 1 4]\n",
      " [51 'Greece' 'GRE' 1.0 1.0 6 8]\n",
      " [52 'Argentina' 'ARG' 1.0 1.0 1 3]\n",
      " [52 'Egypt' 'EGY' 1.0 1.0 1 3]\n",
      " [52 'Tunisia' 'TUN' 1.0 nan 1 3]\n",
      " [55 'Botswana' 'BOT' 1.0 1.0 0 2]\n",
      " [55 'Chile' 'CHI' 1.0 1.0 0 2]\n",
      " [55 'St Lucia' 'LCA' 1.0 1.0 0 2]\n",
      " [55 'Uganda' 'UGA' 1.0 1.0 0 2]\n",
      " [59 'Dominican Republic' 'DOM' 1.0 0.0 2 3]\n",
      " [60 'Guatemala' 'GUA' 1.0 0.0 1 2]\n",
      " [60 'Morocco' 'MOR' 1.0 0.0 1 2]\n",
      " [62 'Dominica' 'DMA' 1.0 0.0 0 1]\n",
      " [62 'Pakistan' 'PKN' 1.0 0.0 0 1]\n",
      " [64 'Turkey' 'TUR' 0.0 3.0 5 8]\n",
      " [65 'Mexico' 'MEX' 0.0 3.0 2 5]\n",
      " [66 'Armenia' 'ARM' 0.0 3.0 1 4]\n",
      " [66 'Colombia' 'COL' 0.0 3.0 1 4]\n",
      " [68 'North Korea' 'PRK' 0.0 2.0 4 6]\n",
      " [68 'Kyrgyzstan' 'KGZ' 0.0 2.0 4 6]\n",
      " [70 'Lithuania' 'LTU' 0.0 2.0 2 4]\n",
      " [71 'India' 'IND' 0.0 1.0 5 6]\n",
      " [72 'Moldova' 'MDA' 0.0 1.0 3 4]\n",
      " [73 'Kosovo' 'KOS' 0.0 1.0 1 2]\n",
      " [74 'Cyprus' 'CYP' 0.0 1.0 0 1]\n",
      " [74 'Fiji' 'FIJ' 0.0 1.0 0 1]\n",
      " [74 'Jordan' 'JOR' 0.0 1.0 0 1]\n",
      " [74 'Mongolia' 'MGL' 0.0 1.0 0 1]\n",
      " [74 'Panama' 'PAN' 0.0 1.0 0 1]\n",
      " [79 'Tajikistan' 'TJK' 0.0 0.0 3 3]\n",
      " [80 'Albania' 'ALB' 0.0 0.0 2 2]\n",
      " [80 'Grenada' 'GRN' 0.0 0.0 2 2]\n",
      " [80 'Malaysia' 'MAS' 0.0 0.0 2 2]\n",
      " [80 'Puerto Rico' 'PUR' 0.0 0.0 2 2]\n",
      " [84 'Cape Verde' 'CPV' 0.0 0.0 1 1]\n",
      " [84 'Ivory Coast' 'CIV' 0.0 0.0 1 1]\n",
      " [84 'Refugee Olympic Team' 'EOR' 0.0 0.0 1 1]\n",
      " [84 'Peru' 'PER' 0.0 0.0 1 1]\n",
      " [84 'Qatar' 'QAT' 0.0 0.0 1 1]\n",
      " [84 'Singapore' 'SIN' 0.0 0.0 1 1]\n",
      " [84 'Slovakia' 'SVK' nan 0.0 1 1]\n",
      " [84 'Zambia' 'ZAM' 0.0 0.0 1 1]]\n"
     ]
    }
   ],
   "source": [
    "print(x)"
   ]
  },
  {
   "cell_type": "code",
   "execution_count": 4,
   "id": "c3e4c395-ec8a-4f84-8e8f-72c62664654b",
   "metadata": {},
   "outputs": [
    {
     "name": "stdout",
     "output_type": "stream",
     "text": [
      "[126  91  45  53  64  34  65  32  40  33  20  27  13  19  18  11  11   8\n",
      "   7  20  12  12   9   7  10   7   5   5   9   7   7   9   4   3   7   5\n",
      "   4   4   3   3   7  10   7   6   6   6   4   8   5   4   8   3   3   3\n",
      "   2   2   2   2   3   2   2   1   1   8   5   4   4   6   6   4   6   4\n",
      "   2   1   1   1   1   1   3   2   2   2   2   1   1   1   1   1   1   1\n",
      "   1]\n"
     ]
    }
   ],
   "source": [
    "print(y)"
   ]
  },
  {
   "cell_type": "code",
   "execution_count": 5,
   "id": "21b07234-4f34-46d6-9f1a-071911773994",
   "metadata": {},
   "outputs": [
    {
     "name": "stdout",
     "output_type": "stream",
     "text": [
      "<class 'pandas.core.frame.DataFrame'>\n",
      "RangeIndex: 91 entries, 0 to 90\n",
      "Data columns (total 7 columns):\n",
      " #   Column        Non-Null Count  Dtype  \n",
      "---  ------        --------------  -----  \n",
      " 0   Rank          91 non-null     int64  \n",
      " 1   Country       91 non-null     object \n",
      " 2   Country Code  91 non-null     object \n",
      " 3   Gold          90 non-null     float64\n",
      " 4   Silver        89 non-null     float64\n",
      " 5   Bronze        91 non-null     int64  \n",
      " 6   Total         91 non-null     int64  \n",
      "dtypes: float64(2), int64(3), object(2)\n",
      "memory usage: 5.1+ KB\n",
      "None\n"
     ]
    }
   ],
   "source": [
    "print(dataset.info())"
   ]
  },
  {
   "cell_type": "markdown",
   "id": "64745437-10a0-4f82-9dce-7c7e2c94c3c8",
   "metadata": {},
   "source": [
    "***Menghilangkan Missing Value***\n"
   ]
  },
  {
   "cell_type": "code",
   "execution_count": 6,
   "id": "c3c661f9-51e4-4811-97b9-473cee3b916d",
   "metadata": {},
   "outputs": [
    {
     "name": "stdout",
     "output_type": "stream",
     "text": [
      "Rank            0\n",
      "Country         0\n",
      "Country Code    0\n",
      "Gold            1\n",
      "Silver          2\n",
      "Bronze          0\n",
      "Total           0\n",
      "dtype: int64\n"
     ]
    }
   ],
   "source": [
    "# periksa nilai yang hilang di setiap kolom\n",
    "print(dataset.isnull().sum())"
   ]
  },
  {
   "cell_type": "code",
   "execution_count": 7,
   "id": "88a9ec76-0565-4f09-8525-ddec2557a355",
   "metadata": {},
   "outputs": [],
   "source": [
    "from sklearn.impute import SimpleImputer\n",
    "imputer = SimpleImputer(missing_values=np.nan, strategy='most_frequent')\n",
    "imputer.fit(x[:, 3:4])\n",
    "x[:, 3:4] = imputer.transform(x[:, 3:4])"
   ]
  },
  {
   "cell_type": "code",
   "execution_count": 8,
   "id": "9d4a080d-6b63-4b59-9222-2bdf85d2738f",
   "metadata": {},
   "outputs": [
    {
     "name": "stdout",
     "output_type": "stream",
     "text": [
      "[[1 'United States' 'US' 40.0 44.0 42 126]\n",
      " [2 'China' 'CHN' 40.0 27.0 24 91]\n",
      " [3 'Japan' 'JPN' 20.0 12.0 13 45]\n",
      " [4 'Australia' 'AUS' 18.0 19.0 16 53]\n",
      " [5 'France' 'FRA' 16.0 26.0 22 64]\n",
      " [6 'Netherlands' 'NED' 15.0 7.0 12 34]\n",
      " [7 'Great Britain' 'GBG' 14.0 22.0 29 65]\n",
      " [8 'South Korea' 'KOR' 13.0 9.0 10 32]\n",
      " [9 'Italy' 'ITA' 12.0 13.0 15 40]\n",
      " [10 'Germany' 'GER' 12.0 13.0 8 33]\n",
      " [11 'New Zealand' 'NZ' 10.0 7.0 3 20]\n",
      " [12 'Canada' 'CAN' 9.0 7.0 11 27]\n",
      " [13 'Uzbekistan' 'UZB' 8.0 2.0 3 13]\n",
      " [14 'Hungary' 'HUN' 6.0 7.0 6 19]\n",
      " [15 'Spain' 'SPA' 5.0 4.0 9 18]\n",
      " [16 'Sweden' 'SWE' 4.0 4.0 3 11]\n",
      " [17 'Kenya' 'KEN' 4.0 2.0 5 11]\n",
      " [18 'Norway' 'NOR' 4.0 1.0 3 8]\n",
      " [19 'Ireland' 'IRE' 4.0 0.0 3 7]\n",
      " [20 'Brazil' 'BRZ' 3.0 7.0 10 20]\n",
      " [21 'Iran' 'IRN' 3.0 6.0 3 12]\n",
      " [22 'Ukraine' 'UKR' 3.0 5.0 4 12]\n",
      " [23 'Romania' 'ROM' 3.0 4.0 2 9]\n",
      " [24 'Georgia' 'GEO' 3.0 3.0 1 7]\n",
      " [25 'Belgium' 'BEL' 3.0 1.0 6 10]\n",
      " [26 'Bulgaria' 'BUL' 3.0 1.0 3 7]\n",
      " [27 'Serbia' 'SER' 3.0 nan 1 5]\n",
      " [28 'Czech Republic' 'CZE' 3.0 0.0 2 5]\n",
      " [29 'Denmark' 'DEN' 2.0 2.0 5 9]\n",
      " [30 'Azerbaijan' 'AZE' 2.0 2.0 3 7]\n",
      " [30 'Croatia' 'CRO' 2.0 2.0 3 7]\n",
      " [32 'Cuba' 'CUB' 2.0 1.0 6 9]\n",
      " [33 'Bahrain' 'BHR' 2.0 1.0 1 4]\n",
      " [34 'Slovenia' 'SLO' 2.0 1.0 0 3]\n",
      " [35 'Chinese Taipei' 'TPE' 2.0 0.0 5 7]\n",
      " [36 'Austria' 'AUT' 2.0 0.0 3 5]\n",
      " [37 'Hong Kong' 'HK' 2.0 0.0 2 4]\n",
      " [37 'Philippines' 'PHI' 2.0 0.0 2 4]\n",
      " [39 'Algeria' 'ALG' 2.0 0.0 1 3]\n",
      " [39 'Indonesia' 'IDN' 2.0 0.0 1 3]\n",
      " [41 'Israel' 'ISR' 1.0 5.0 1 7]\n",
      " [42 'Poland' 'POL' 1.0 4.0 5 10]\n",
      " [43 'Kazakhstan' 'KAZ' 1.0 3.0 3 7]\n",
      " [44 'Jamaica' 'JAM' 1.0 3.0 2 6]\n",
      " [44 'South Africa' 'SA' 1.0 3.0 2 6]\n",
      " [44 'Thailand' 'THA' 1.0 3.0 2 6]\n",
      " [47 'Ethiopia' 'ETH' 1.0 3.0 0 4]\n",
      " [48 'Switzerland' 'SWI' 1.0 2.0 5 8]\n",
      " [49 'Ecuador' 'ECU' 1.0 2.0 2 5]\n",
      " [50 'Portugal' 'POR' 1.0 2.0 1 4]\n",
      " [51 'Greece' 'GRE' 1.0 1.0 6 8]\n",
      " [52 'Argentina' 'ARG' 1.0 1.0 1 3]\n",
      " [52 'Egypt' 'EGY' 1.0 1.0 1 3]\n",
      " [52 'Tunisia' 'TUN' 1.0 nan 1 3]\n",
      " [55 'Botswana' 'BOT' 1.0 1.0 0 2]\n",
      " [55 'Chile' 'CHI' 1.0 1.0 0 2]\n",
      " [55 'St Lucia' 'LCA' 1.0 1.0 0 2]\n",
      " [55 'Uganda' 'UGA' 1.0 1.0 0 2]\n",
      " [59 'Dominican Republic' 'DOM' 1.0 0.0 2 3]\n",
      " [60 'Guatemala' 'GUA' 1.0 0.0 1 2]\n",
      " [60 'Morocco' 'MOR' 1.0 0.0 1 2]\n",
      " [62 'Dominica' 'DMA' 1.0 0.0 0 1]\n",
      " [62 'Pakistan' 'PKN' 1.0 0.0 0 1]\n",
      " [64 'Turkey' 'TUR' 0.0 3.0 5 8]\n",
      " [65 'Mexico' 'MEX' 0.0 3.0 2 5]\n",
      " [66 'Armenia' 'ARM' 0.0 3.0 1 4]\n",
      " [66 'Colombia' 'COL' 0.0 3.0 1 4]\n",
      " [68 'North Korea' 'PRK' 0.0 2.0 4 6]\n",
      " [68 'Kyrgyzstan' 'KGZ' 0.0 2.0 4 6]\n",
      " [70 'Lithuania' 'LTU' 0.0 2.0 2 4]\n",
      " [71 'India' 'IND' 0.0 1.0 5 6]\n",
      " [72 'Moldova' 'MDA' 0.0 1.0 3 4]\n",
      " [73 'Kosovo' 'KOS' 0.0 1.0 1 2]\n",
      " [74 'Cyprus' 'CYP' 0.0 1.0 0 1]\n",
      " [74 'Fiji' 'FIJ' 0.0 1.0 0 1]\n",
      " [74 'Jordan' 'JOR' 0.0 1.0 0 1]\n",
      " [74 'Mongolia' 'MGL' 0.0 1.0 0 1]\n",
      " [74 'Panama' 'PAN' 0.0 1.0 0 1]\n",
      " [79 'Tajikistan' 'TJK' 0.0 0.0 3 3]\n",
      " [80 'Albania' 'ALB' 0.0 0.0 2 2]\n",
      " [80 'Grenada' 'GRN' 0.0 0.0 2 2]\n",
      " [80 'Malaysia' 'MAS' 0.0 0.0 2 2]\n",
      " [80 'Puerto Rico' 'PUR' 0.0 0.0 2 2]\n",
      " [84 'Cape Verde' 'CPV' 0.0 0.0 1 1]\n",
      " [84 'Ivory Coast' 'CIV' 0.0 0.0 1 1]\n",
      " [84 'Refugee Olympic Team' 'EOR' 0.0 0.0 1 1]\n",
      " [84 'Peru' 'PER' 0.0 0.0 1 1]\n",
      " [84 'Qatar' 'QAT' 0.0 0.0 1 1]\n",
      " [84 'Singapore' 'SIN' 0.0 0.0 1 1]\n",
      " [84 'Slovakia' 'SVK' 0.0 0.0 1 1]\n",
      " [84 'Zambia' 'ZAM' 0.0 0.0 1 1]]\n"
     ]
    }
   ],
   "source": [
    "print(x)"
   ]
  },
  {
   "cell_type": "markdown",
   "id": "9966da2f-6d5c-4cb5-a962-cbe49dc031ce",
   "metadata": {},
   "source": [
    "***Encoding Data Kategori (Atribut)***"
   ]
  },
  {
   "cell_type": "code",
   "execution_count": 9,
   "id": "72a7b9b6-8a28-4c9f-b8ca-22493e6fbd04",
   "metadata": {},
   "outputs": [],
   "source": [
    "from sklearn.compose import ColumnTransformer\n",
    "from sklearn.preprocessing import OneHotEncoder\n",
    "ct = ColumnTransformer(transformers=[('encoder', OneHotEncoder(), [1,2])], remainder='passthrough')\n",
    "x = np.array(ct.fit_transform(x))"
   ]
  },
  {
   "cell_type": "code",
   "execution_count": 10,
   "id": "f790cee6-958d-4b04-a324-0f044d760830",
   "metadata": {},
   "outputs": [
    {
     "name": "stdout",
     "output_type": "stream",
     "text": [
      "  (0, 88)\t1.0\n",
      "  (0, 179)\t1.0\n",
      "  (0, 182)\t1.0\n",
      "  (0, 183)\t40.0\n",
      "  (0, 184)\t44.0\n",
      "  (0, 185)\t42.0\n",
      "  (0, 186)\t126.0\n",
      "  (1, 15)\t1.0\n",
      "  (1, 105)\t1.0\n",
      "  (1, 182)\t2.0\n",
      "  (1, 183)\t40.0\n",
      "  (1, 184)\t27.0\n",
      "  (1, 185)\t24.0\n",
      "  (1, 186)\t91.0\n",
      "  (2, 46)\t1.0\n",
      "  (2, 138)\t1.0\n",
      "  (2, 182)\t3.0\n",
      "  (2, 183)\t20.0\n",
      "  (2, 184)\t12.0\n",
      "  (2, 185)\t13.0\n",
      "  (2, 186)\t45.0\n",
      "  (3, 4)\t1.0\n",
      "  (3, 95)\t1.0\n",
      "  (3, 182)\t4.0\n",
      "  (3, 183)\t18.0\n",
      "  :\t:\n",
      "  (86, 64)\t1.0\n",
      "  (86, 155)\t1.0\n",
      "  (86, 182)\t84.0\n",
      "  (86, 185)\t1.0\n",
      "  (86, 186)\t1.0\n",
      "  (87, 69)\t1.0\n",
      "  (87, 162)\t1.0\n",
      "  (87, 182)\t84.0\n",
      "  (87, 185)\t1.0\n",
      "  (87, 186)\t1.0\n",
      "  (88, 73)\t1.0\n",
      "  (88, 166)\t1.0\n",
      "  (88, 182)\t84.0\n",
      "  (88, 185)\t1.0\n",
      "  (88, 186)\t1.0\n",
      "  (89, 74)\t1.0\n",
      "  (89, 169)\t1.0\n",
      "  (89, 182)\t84.0\n",
      "  (89, 185)\t1.0\n",
      "  (89, 186)\t1.0\n",
      "  (90, 90)\t1.0\n",
      "  (90, 181)\t1.0\n",
      "  (90, 182)\t84.0\n",
      "  (90, 185)\t1.0\n",
      "  (90, 186)\t1.0\n"
     ]
    }
   ],
   "source": [
    "print(x)"
   ]
  },
  {
   "cell_type": "markdown",
   "id": "af4ac901-58aa-40c6-abcb-8c87072694eb",
   "metadata": {},
   "source": [
    "***Encoding data kategori (Label)***"
   ]
  },
  {
   "cell_type": "code",
   "execution_count": 11,
   "id": "b4cebba7-43f7-4ed3-a89a-ed19e827198f",
   "metadata": {},
   "outputs": [],
   "source": [
    "from sklearn.preprocessing import LabelEncoder\n",
    "# Encoding target \"Purchased\" menggunakan LabelEncoder\n",
    "le = LabelEncoder()\n",
    "y = le.fit_transform(y)"
   ]
  },
  {
   "cell_type": "code",
   "execution_count": 12,
   "id": "422a5d92-cda3-46df-bf30-0d8043fdfd8b",
   "metadata": {},
   "outputs": [
    {
     "name": "stdout",
     "output_type": "stream",
     "text": [
      "[26 25 21 22 23 19 24 17 20 18 15 16 12 14 13 10 10  7  6 15 11 11  8  6\n",
      "  9  6  4  4  8  6  6  8  3  2  6  4  3  3  2  2  6  9  6  5  5  5  3  7\n",
      "  4  3  7  2  2  2  1  1  1  1  2  1  1  0  0  7  4  3  3  5  5  3  5  3\n",
      "  1  0  0  0  0  0  2  1  1  1  1  0  0  0  0  0  0  0  0]\n"
     ]
    }
   ],
   "source": [
    "print(y)"
   ]
  },
  {
   "cell_type": "markdown",
   "id": "794ce9ad-d059-4582-b7ca-f89bc0a338a0",
   "metadata": {},
   "source": [
    "***Membagi dataset ke dalam training set dan test set***"
   ]
  },
  {
   "cell_type": "code",
   "execution_count": 13,
   "id": "749a5739-a6e6-4d15-a873-a880243df69f",
   "metadata": {},
   "outputs": [],
   "source": [
    "from sklearn.model_selection import train_test_split\n",
    "\n",
    "# Asumsi x adalah singleton array yang mengandung sparse matrix\n",
    "# Akses sparse matrix dari dalam array tersebut\n",
    "x_sparse = x.item() if isinstance(x, np.ndarray) else x  # Ambil sparse matrix\n",
    "\n",
    "# Jika x adalah sparse matrix, konversi ke dense array\n",
    "if hasattr(x_sparse, 'toarray'):\n",
    "    x_dense = x_sparse.toarray()  # Konversi sparse matrix ke dense array\n",
    "\n",
    "# Split data (x_dense: fitur, y: target) ke dalam train dan test set\n",
    "x_train, x_test, y_train, y_test = train_test_split(x_dense, y, test_size=0.2, random_state=42)"
   ]
  },
  {
   "cell_type": "markdown",
   "id": "abd24ed7-739d-4736-ad20-3b9036d21f51",
   "metadata": {},
   "source": [
    "Diperlukan akses sparse matrix dan konversi ke dense array dahulu sebelum memasukkan test size. Code sebelumnya bisa eror karena objek x kita tampaknya tidak secara langsung merupakan sparse matrix atau dense array, melainkan sebuah singleton array yang mengandung sparse matrix. Ini berarti kita perlu mengambil sparse matrix dari objek tersebut terlebih dahulu."
   ]
  },
  {
   "cell_type": "code",
   "execution_count": 15,
   "id": "62f72740-b63b-497f-a3ae-4bb38f18e6e8",
   "metadata": {},
   "outputs": [
    {
     "name": "stdout",
     "output_type": "stream",
     "text": [
      "[[ 0.  0.  0. ...  3.  2.  5.]\n",
      " [ 0.  0.  0. ...  4.  3. 11.]\n",
      " [ 0.  0.  0. ...  2.  4.  6.]\n",
      " ...\n",
      " [ 0.  0.  0. ...  1.  3.  4.]\n",
      " [ 0.  0.  0. ...  4.  9. 18.]\n",
      " [ 0.  0.  1. ...  1.  1.  3.]]\n"
     ]
    }
   ],
   "source": [
    "print(x_train)"
   ]
  },
  {
   "cell_type": "code",
   "execution_count": 16,
   "id": "80f1dc00-93b4-4d85-901f-2400817486d9",
   "metadata": {},
   "outputs": [
    {
     "name": "stdout",
     "output_type": "stream",
     "text": [
      "[[0. 0. 0. ... 5. 1. 7.]\n",
      " [0. 0. 0. ... 4. 2. 9.]\n",
      " [0. 0. 0. ... 1. 0. 2.]\n",
      " ...\n",
      " [0. 0. 0. ... 0. 3. 7.]\n",
      " [0. 0. 0. ... 2. 5. 9.]\n",
      " [0. 0. 0. ... 2. 1. 4.]]\n"
     ]
    }
   ],
   "source": [
    "print(x_test)"
   ]
  },
  {
   "cell_type": "code",
   "execution_count": 17,
   "id": "518cb756-400e-4274-bee7-6ec8081c93fb",
   "metadata": {},
   "outputs": [
    {
     "name": "stdout",
     "output_type": "stream",
     "text": [
      "[ 4 10  5  0  6  2 16  3  5  8  0 18  3 19  6  7 10  5  6 17  1  4 15  0\n",
      "  6  2 14  9 22  7  2 20  1 24  0  3  1  1  0  1  5  7  3  0  0  0  0  9\n",
      "  2  4  1  1  3  0  1  7  2  3  6 25  2 11 21  6  0  0  1 11  1  3 13  2]\n"
     ]
    }
   ],
   "source": [
    "print (y_train)"
   ]
  },
  {
   "cell_type": "code",
   "execution_count": 18,
   "id": "5aa298d0-2af4-4447-9434-fa2ca2a4f685",
   "metadata": {},
   "outputs": [
    {
     "name": "stdout",
     "output_type": "stream",
     "text": [
      "[ 6  8  1  0 26  4  2  3 15  5  0  4  5  0 12 23  6  8  3]\n"
     ]
    }
   ],
   "source": [
    "print(y_test)"
   ]
  },
  {
   "cell_type": "markdown",
   "id": "ce53f0b9-2e2c-4e16-b76f-38d69d3ce994",
   "metadata": {},
   "source": [
    "## **Feature Scaling**"
   ]
  },
  {
   "cell_type": "code",
   "execution_count": 20,
   "id": "bc7ca3e7-dd2c-4989-b426-21be9e4890b6",
   "metadata": {},
   "outputs": [],
   "source": [
    "from sklearn.preprocessing import StandardScaler\n",
    "# Menerapkan standarisasi pada fitur numerik (mulai dari kolom ke-4)\n",
    "scaler = StandardScaler()\n",
    "x_train[:, 3:] = scaler.fit_transform(x_train[:, 3:])\n",
    "x_test[:, 3:] = scaler.transform(x_test[:,  3:])"
   ]
  },
  {
   "cell_type": "code",
   "execution_count": 21,
   "id": "d0d3e7e7-a46b-4f80-bede-2f90f94c9c30",
   "metadata": {},
   "outputs": [
    {
     "name": "stdout",
     "output_type": "stream",
     "text": [
      "[[ 0.          0.          0.         ... -0.0330929  -0.37693364\n",
      "  -0.33812279]\n",
      " [ 0.          0.          0.         ...  0.16270678 -0.18714887\n",
      "   0.04029443]\n",
      " [ 0.          0.          0.         ... -0.22889259  0.0026359\n",
      "  -0.27505325]\n",
      " ...\n",
      " [ 0.          0.          0.         ... -0.42469227 -0.18714887\n",
      "  -0.40119232]\n",
      " [ 0.          0.          0.         ...  0.16270678  0.95155975\n",
      "   0.48178117]\n",
      " [ 0.          0.          1.         ... -0.42469227 -0.56671841\n",
      "  -0.46426186]]\n"
     ]
    }
   ],
   "source": [
    "print (x_train)"
   ]
  },
  {
   "cell_type": "code",
   "execution_count": 22,
   "id": "f1c61f45-2075-4c64-ab02-ba7073de76fa",
   "metadata": {},
   "outputs": [
    {
     "name": "stdout",
     "output_type": "stream",
     "text": [
      "[ 4 10  5  0  6  2 16  3  5  8  0 18  3 19  6  7 10  5  6 17  1  4 15  0\n",
      "  6  2 14  9 22  7  2 20  1 24  0  3  1  1  0  1  5  7  3  0  0  0  0  9\n",
      "  2  4  1  1  3  0  1  7  2  3  6 25  2 11 21  6  0  0  1 11  1  3 13  2]\n"
     ]
    }
   ],
   "source": [
    "print(y_train)"
   ]
  },
  {
   "cell_type": "code",
   "execution_count": null,
   "id": "0fa77447-0b92-4a4b-89f0-37f3efcd66df",
   "metadata": {},
   "outputs": [],
   "source": []
  }
 ],
 "metadata": {
  "kernelspec": {
   "display_name": "Python 3 (ipykernel)",
   "language": "python",
   "name": "python3"
  },
  "language_info": {
   "codemirror_mode": {
    "name": "ipython",
    "version": 3
   },
   "file_extension": ".py",
   "mimetype": "text/x-python",
   "name": "python",
   "nbconvert_exporter": "python",
   "pygments_lexer": "ipython3",
   "version": "3.12.2"
  }
 },
 "nbformat": 4,
 "nbformat_minor": 5
}
