{
 "cells": [
  {
   "cell_type": "markdown",
   "id": "10327341-50c4-4a2c-b3f3-094b498f6da3",
   "metadata": {},
   "source": [
    "***Pertemuan 3***\n"
   ]
  },
  {
   "cell_type": "markdown",
   "id": "b8e96aef-e3dc-483d-934e-5143c843df0d",
   "metadata": {},
   "source": [
    "***Missing Values***"
   ]
  },
  {
   "cell_type": "markdown",
   "id": "2e91112c-56db-4227-9713-592782a98de1",
   "metadata": {},
   "source": [
    "***Import Library***"
   ]
  },
  {
   "cell_type": "code",
   "execution_count": 4,
   "id": "ef382b97-2be3-4f90-90f8-e107d439e1ed",
   "metadata": {},
   "outputs": [],
   "source": [
    "import numpy as np\n",
    "import matplotlib.pyplot as plt\n",
    "import pandas as pd"
   ]
  },
  {
   "cell_type": "markdown",
   "id": "702de719-5f0b-4b46-a376-175a21eb79e6",
   "metadata": {},
   "source": [
    "***Import Dataset***"
   ]
  },
  {
   "cell_type": "code",
   "execution_count": 5,
   "id": "20535a80-16fd-4015-9454-09a46ac29fa1",
   "metadata": {},
   "outputs": [],
   "source": [
    "dataset=pd.read_csv('Olympics2024.csv')\n",
    "x=dataset.iloc[:, :].values\n",
    "y=dataset.iloc[:, -1].values"
   ]
  },
  {
   "cell_type": "code",
   "execution_count": 6,
   "id": "d7fb3e5e-01fb-4fd4-9e02-894524a4d3e1",
   "metadata": {},
   "outputs": [
    {
     "name": "stdout",
     "output_type": "stream",
     "text": [
      "[[1 'United States' 'US' 40.0 44.0 42 126]\n",
      " [2 'China' 'CHN' 40.0 27.0 24 91]\n",
      " [3 'Japan' 'JPN' 20.0 12.0 13 45]\n",
      " [4 'Australia' 'AUS' 18.0 19.0 16 53]\n",
      " [5 'France' 'FRA' 16.0 26.0 22 64]\n",
      " [6 'Netherlands' 'NED' 15.0 7.0 12 34]\n",
      " [7 'Great Britain' 'GBG' 14.0 22.0 29 65]\n",
      " [8 'South Korea' 'KOR' 13.0 9.0 10 32]\n",
      " [9 'Italy' 'ITA' 12.0 13.0 15 40]\n",
      " [10 'Germany' 'GER' 12.0 13.0 8 33]\n",
      " [11 'New Zealand' 'NZ' 10.0 7.0 3 20]\n",
      " [12 'Canada' 'CAN' 9.0 7.0 11 27]\n",
      " [13 'Uzbekistan' 'UZB' 8.0 2.0 3 13]\n",
      " [14 'Hungary' 'HUN' 6.0 7.0 6 19]\n",
      " [15 'Spain' 'SPA' 5.0 4.0 9 18]\n",
      " [16 'Sweden' 'SWE' 4.0 4.0 3 11]\n",
      " [17 'Kenya' 'KEN' 4.0 2.0 5 11]\n",
      " [18 'Norway' 'NOR' 4.0 1.0 3 8]\n",
      " [19 'Ireland' 'IRE' 4.0 0.0 3 7]\n",
      " [20 'Brazil' 'BRZ' 3.0 7.0 10 20]\n",
      " [21 'Iran' 'IRN' 3.0 6.0 3 12]\n",
      " [22 'Ukraine' 'UKR' 3.0 5.0 4 12]\n",
      " [23 'Romania' 'ROM' 3.0 4.0 2 9]\n",
      " [24 'Georgia' 'GEO' 3.0 3.0 1 7]\n",
      " [25 'Belgium' 'BEL' 3.0 1.0 6 10]\n",
      " [26 'Bulgaria' 'BUL' 3.0 1.0 3 7]\n",
      " [27 'Serbia' 'SER' 3.0 nan 1 5]\n",
      " [28 'Czech Republic' 'CZE' 3.0 0.0 2 5]\n",
      " [29 'Denmark' 'DEN' 2.0 2.0 5 9]\n",
      " [30 'Azerbaijan' 'AZE' 2.0 2.0 3 7]\n",
      " [30 'Croatia' 'CRO' 2.0 2.0 3 7]\n",
      " [32 'Cuba' 'CUB' 2.0 1.0 6 9]\n",
      " [33 'Bahrain' 'BHR' 2.0 1.0 1 4]\n",
      " [34 'Slovenia' 'SLO' 2.0 1.0 0 3]\n",
      " [35 'Chinese Taipei' 'TPE' 2.0 0.0 5 7]\n",
      " [36 'Austria' 'AUT' 2.0 0.0 3 5]\n",
      " [37 'Hong Kong' 'HK' 2.0 0.0 2 4]\n",
      " [37 'Philippines' 'PHI' 2.0 0.0 2 4]\n",
      " [39 'Algeria' 'ALG' 2.0 0.0 1 3]\n",
      " [39 'Indonesia' 'IDN' 2.0 0.0 1 3]\n",
      " [41 'Israel' 'ISR' 1.0 5.0 1 7]\n",
      " [42 'Poland' 'POL' 1.0 4.0 5 10]\n",
      " [43 'Kazakhstan' 'KAZ' 1.0 3.0 3 7]\n",
      " [44 'Jamaica' 'JAM' 1.0 3.0 2 6]\n",
      " [44 'South Africa' 'SA' 1.0 3.0 2 6]\n",
      " [44 'Thailand' 'THA' 1.0 3.0 2 6]\n",
      " [47 'Ethiopia' 'ETH' 1.0 3.0 0 4]\n",
      " [48 'Switzerland' 'SWI' 1.0 2.0 5 8]\n",
      " [49 'Ecuador' 'ECU' 1.0 2.0 2 5]\n",
      " [50 'Portugal' 'POR' 1.0 2.0 1 4]\n",
      " [51 'Greece' 'GRE' 1.0 1.0 6 8]\n",
      " [52 'Argentina' 'ARG' 1.0 1.0 1 3]\n",
      " [52 'Egypt' 'EGY' 1.0 1.0 1 3]\n",
      " [52 'Tunisia' 'TUN' 1.0 nan 1 3]\n",
      " [55 'Botswana' 'BOT' 1.0 1.0 0 2]\n",
      " [55 'Chile' 'CHI' 1.0 1.0 0 2]\n",
      " [55 'St Lucia' 'LCA' 1.0 1.0 0 2]\n",
      " [55 'Uganda' 'UGA' 1.0 1.0 0 2]\n",
      " [59 'Dominican Republic' 'DOM' 1.0 0.0 2 3]\n",
      " [60 'Guatemala' 'GUA' 1.0 0.0 1 2]\n",
      " [60 'Morocco' 'MOR' 1.0 0.0 1 2]\n",
      " [62 'Dominica' 'DMA' 1.0 0.0 0 1]\n",
      " [62 'Pakistan' 'PKN' 1.0 0.0 0 1]\n",
      " [64 'Turkey' 'TUR' 0.0 3.0 5 8]\n",
      " [65 'Mexico' 'MEX' 0.0 3.0 2 5]\n",
      " [66 'Armenia' 'ARM' 0.0 3.0 1 4]\n",
      " [66 'Colombia' 'COL' 0.0 3.0 1 4]\n",
      " [68 'North Korea' 'PRK' 0.0 2.0 4 6]\n",
      " [68 'Kyrgyzstan' 'KGZ' 0.0 2.0 4 6]\n",
      " [70 'Lithuania' 'LTU' 0.0 2.0 2 4]\n",
      " [71 'India' 'IND' 0.0 1.0 5 6]\n",
      " [72 'Moldova' 'MDA' 0.0 1.0 3 4]\n",
      " [73 'Kosovo' 'KOS' 0.0 1.0 1 2]\n",
      " [74 'Cyprus' 'CYP' 0.0 1.0 0 1]\n",
      " [74 'Fiji' 'FIJ' 0.0 1.0 0 1]\n",
      " [74 'Jordan' 'JOR' 0.0 1.0 0 1]\n",
      " [74 'Mongolia' 'MGL' 0.0 1.0 0 1]\n",
      " [74 'Panama' 'PAN' 0.0 1.0 0 1]\n",
      " [79 'Tajikistan' 'TJK' 0.0 0.0 3 3]\n",
      " [80 'Albania' 'ALB' 0.0 0.0 2 2]\n",
      " [80 'Grenada' 'GRN' 0.0 0.0 2 2]\n",
      " [80 'Malaysia' 'MAS' 0.0 0.0 2 2]\n",
      " [80 'Puerto Rico' 'PUR' 0.0 0.0 2 2]\n",
      " [84 'Cape Verde' 'CPV' 0.0 0.0 1 1]\n",
      " [84 'Ivory Coast' 'CIV' 0.0 0.0 1 1]\n",
      " [84 'Refugee Olympic Team' 'EOR' 0.0 0.0 1 1]\n",
      " [84 'Peru' 'PER' 0.0 0.0 1 1]\n",
      " [84 'Qatar' 'QAT' 0.0 0.0 1 1]\n",
      " [84 'Singapore' 'SIN' 0.0 0.0 1 1]\n",
      " [84 'Slovakia' 'SVK' nan 0.0 1 1]\n",
      " [84 'Zambia' 'ZAM' 0.0 0.0 1 1]]\n"
     ]
    }
   ],
   "source": [
    "print(x)"
   ]
  },
  {
   "cell_type": "code",
   "execution_count": 7,
   "id": "c3e4c395-ec8a-4f84-8e8f-72c62664654b",
   "metadata": {},
   "outputs": [
    {
     "name": "stdout",
     "output_type": "stream",
     "text": [
      "[126  91  45  53  64  34  65  32  40  33  20  27  13  19  18  11  11   8\n",
      "   7  20  12  12   9   7  10   7   5   5   9   7   7   9   4   3   7   5\n",
      "   4   4   3   3   7  10   7   6   6   6   4   8   5   4   8   3   3   3\n",
      "   2   2   2   2   3   2   2   1   1   8   5   4   4   6   6   4   6   4\n",
      "   2   1   1   1   1   1   3   2   2   2   2   1   1   1   1   1   1   1\n",
      "   1]\n"
     ]
    }
   ],
   "source": [
    "print(y)"
   ]
  },
  {
   "cell_type": "code",
   "execution_count": 8,
   "id": "21b07234-4f34-46d6-9f1a-071911773994",
   "metadata": {},
   "outputs": [
    {
     "name": "stdout",
     "output_type": "stream",
     "text": [
      "<class 'pandas.core.frame.DataFrame'>\n",
      "RangeIndex: 91 entries, 0 to 90\n",
      "Data columns (total 7 columns):\n",
      " #   Column        Non-Null Count  Dtype  \n",
      "---  ------        --------------  -----  \n",
      " 0   Rank          91 non-null     int64  \n",
      " 1   Country       91 non-null     object \n",
      " 2   Country Code  91 non-null     object \n",
      " 3   Gold          90 non-null     float64\n",
      " 4   Silver        89 non-null     float64\n",
      " 5   Bronze        91 non-null     int64  \n",
      " 6   Total         91 non-null     int64  \n",
      "dtypes: float64(2), int64(3), object(2)\n",
      "memory usage: 5.1+ KB\n",
      "None\n"
     ]
    }
   ],
   "source": [
    "print(dataset.info())"
   ]
  },
  {
   "cell_type": "markdown",
   "id": "64745437-10a0-4f82-9dce-7c7e2c94c3c8",
   "metadata": {},
   "source": [
    "***Menghilangkan Missing Value***\n"
   ]
  },
  {
   "cell_type": "code",
   "execution_count": 9,
   "id": "c3c661f9-51e4-4811-97b9-473cee3b916d",
   "metadata": {},
   "outputs": [
    {
     "name": "stdout",
     "output_type": "stream",
     "text": [
      "Rank            0\n",
      "Country         0\n",
      "Country Code    0\n",
      "Gold            1\n",
      "Silver          2\n",
      "Bronze          0\n",
      "Total           0\n",
      "dtype: int64\n"
     ]
    }
   ],
   "source": [
    "# periksa nilai yang hilang di setiap kolom\n",
    "print(dataset.isnull().sum())"
   ]
  },
  {
   "cell_type": "code",
   "execution_count": 10,
   "id": "88a9ec76-0565-4f09-8525-ddec2557a355",
   "metadata": {},
   "outputs": [],
   "source": [
    "from sklearn.impute import SimpleImputer\n",
    "imputer = SimpleImputer(missing_values=np.nan, strategy='most_frequent')\n",
    "imputer.fit(x[:, 3:5])\n",
    "x[:, 3:5] = imputer.transform(x[:, 3:5])"
   ]
  },
  {
   "cell_type": "code",
   "execution_count": 11,
   "id": "9d4a080d-6b63-4b59-9222-2bdf85d2738f",
   "metadata": {},
   "outputs": [
    {
     "name": "stdout",
     "output_type": "stream",
     "text": [
      "[[1 'United States' 'US' 40.0 44.0 42 126]\n",
      " [2 'China' 'CHN' 40.0 27.0 24 91]\n",
      " [3 'Japan' 'JPN' 20.0 12.0 13 45]\n",
      " [4 'Australia' 'AUS' 18.0 19.0 16 53]\n",
      " [5 'France' 'FRA' 16.0 26.0 22 64]\n",
      " [6 'Netherlands' 'NED' 15.0 7.0 12 34]\n",
      " [7 'Great Britain' 'GBG' 14.0 22.0 29 65]\n",
      " [8 'South Korea' 'KOR' 13.0 9.0 10 32]\n",
      " [9 'Italy' 'ITA' 12.0 13.0 15 40]\n",
      " [10 'Germany' 'GER' 12.0 13.0 8 33]\n",
      " [11 'New Zealand' 'NZ' 10.0 7.0 3 20]\n",
      " [12 'Canada' 'CAN' 9.0 7.0 11 27]\n",
      " [13 'Uzbekistan' 'UZB' 8.0 2.0 3 13]\n",
      " [14 'Hungary' 'HUN' 6.0 7.0 6 19]\n",
      " [15 'Spain' 'SPA' 5.0 4.0 9 18]\n",
      " [16 'Sweden' 'SWE' 4.0 4.0 3 11]\n",
      " [17 'Kenya' 'KEN' 4.0 2.0 5 11]\n",
      " [18 'Norway' 'NOR' 4.0 1.0 3 8]\n",
      " [19 'Ireland' 'IRE' 4.0 0.0 3 7]\n",
      " [20 'Brazil' 'BRZ' 3.0 7.0 10 20]\n",
      " [21 'Iran' 'IRN' 3.0 6.0 3 12]\n",
      " [22 'Ukraine' 'UKR' 3.0 5.0 4 12]\n",
      " [23 'Romania' 'ROM' 3.0 4.0 2 9]\n",
      " [24 'Georgia' 'GEO' 3.0 3.0 1 7]\n",
      " [25 'Belgium' 'BEL' 3.0 1.0 6 10]\n",
      " [26 'Bulgaria' 'BUL' 3.0 1.0 3 7]\n",
      " [27 'Serbia' 'SER' 3.0 0.0 1 5]\n",
      " [28 'Czech Republic' 'CZE' 3.0 0.0 2 5]\n",
      " [29 'Denmark' 'DEN' 2.0 2.0 5 9]\n",
      " [30 'Azerbaijan' 'AZE' 2.0 2.0 3 7]\n",
      " [30 'Croatia' 'CRO' 2.0 2.0 3 7]\n",
      " [32 'Cuba' 'CUB' 2.0 1.0 6 9]\n",
      " [33 'Bahrain' 'BHR' 2.0 1.0 1 4]\n",
      " [34 'Slovenia' 'SLO' 2.0 1.0 0 3]\n",
      " [35 'Chinese Taipei' 'TPE' 2.0 0.0 5 7]\n",
      " [36 'Austria' 'AUT' 2.0 0.0 3 5]\n",
      " [37 'Hong Kong' 'HK' 2.0 0.0 2 4]\n",
      " [37 'Philippines' 'PHI' 2.0 0.0 2 4]\n",
      " [39 'Algeria' 'ALG' 2.0 0.0 1 3]\n",
      " [39 'Indonesia' 'IDN' 2.0 0.0 1 3]\n",
      " [41 'Israel' 'ISR' 1.0 5.0 1 7]\n",
      " [42 'Poland' 'POL' 1.0 4.0 5 10]\n",
      " [43 'Kazakhstan' 'KAZ' 1.0 3.0 3 7]\n",
      " [44 'Jamaica' 'JAM' 1.0 3.0 2 6]\n",
      " [44 'South Africa' 'SA' 1.0 3.0 2 6]\n",
      " [44 'Thailand' 'THA' 1.0 3.0 2 6]\n",
      " [47 'Ethiopia' 'ETH' 1.0 3.0 0 4]\n",
      " [48 'Switzerland' 'SWI' 1.0 2.0 5 8]\n",
      " [49 'Ecuador' 'ECU' 1.0 2.0 2 5]\n",
      " [50 'Portugal' 'POR' 1.0 2.0 1 4]\n",
      " [51 'Greece' 'GRE' 1.0 1.0 6 8]\n",
      " [52 'Argentina' 'ARG' 1.0 1.0 1 3]\n",
      " [52 'Egypt' 'EGY' 1.0 1.0 1 3]\n",
      " [52 'Tunisia' 'TUN' 1.0 0.0 1 3]\n",
      " [55 'Botswana' 'BOT' 1.0 1.0 0 2]\n",
      " [55 'Chile' 'CHI' 1.0 1.0 0 2]\n",
      " [55 'St Lucia' 'LCA' 1.0 1.0 0 2]\n",
      " [55 'Uganda' 'UGA' 1.0 1.0 0 2]\n",
      " [59 'Dominican Republic' 'DOM' 1.0 0.0 2 3]\n",
      " [60 'Guatemala' 'GUA' 1.0 0.0 1 2]\n",
      " [60 'Morocco' 'MOR' 1.0 0.0 1 2]\n",
      " [62 'Dominica' 'DMA' 1.0 0.0 0 1]\n",
      " [62 'Pakistan' 'PKN' 1.0 0.0 0 1]\n",
      " [64 'Turkey' 'TUR' 0.0 3.0 5 8]\n",
      " [65 'Mexico' 'MEX' 0.0 3.0 2 5]\n",
      " [66 'Armenia' 'ARM' 0.0 3.0 1 4]\n",
      " [66 'Colombia' 'COL' 0.0 3.0 1 4]\n",
      " [68 'North Korea' 'PRK' 0.0 2.0 4 6]\n",
      " [68 'Kyrgyzstan' 'KGZ' 0.0 2.0 4 6]\n",
      " [70 'Lithuania' 'LTU' 0.0 2.0 2 4]\n",
      " [71 'India' 'IND' 0.0 1.0 5 6]\n",
      " [72 'Moldova' 'MDA' 0.0 1.0 3 4]\n",
      " [73 'Kosovo' 'KOS' 0.0 1.0 1 2]\n",
      " [74 'Cyprus' 'CYP' 0.0 1.0 0 1]\n",
      " [74 'Fiji' 'FIJ' 0.0 1.0 0 1]\n",
      " [74 'Jordan' 'JOR' 0.0 1.0 0 1]\n",
      " [74 'Mongolia' 'MGL' 0.0 1.0 0 1]\n",
      " [74 'Panama' 'PAN' 0.0 1.0 0 1]\n",
      " [79 'Tajikistan' 'TJK' 0.0 0.0 3 3]\n",
      " [80 'Albania' 'ALB' 0.0 0.0 2 2]\n",
      " [80 'Grenada' 'GRN' 0.0 0.0 2 2]\n",
      " [80 'Malaysia' 'MAS' 0.0 0.0 2 2]\n",
      " [80 'Puerto Rico' 'PUR' 0.0 0.0 2 2]\n",
      " [84 'Cape Verde' 'CPV' 0.0 0.0 1 1]\n",
      " [84 'Ivory Coast' 'CIV' 0.0 0.0 1 1]\n",
      " [84 'Refugee Olympic Team' 'EOR' 0.0 0.0 1 1]\n",
      " [84 'Peru' 'PER' 0.0 0.0 1 1]\n",
      " [84 'Qatar' 'QAT' 0.0 0.0 1 1]\n",
      " [84 'Singapore' 'SIN' 0.0 0.0 1 1]\n",
      " [84 'Slovakia' 'SVK' 0.0 0.0 1 1]\n",
      " [84 'Zambia' 'ZAM' 0.0 0.0 1 1]]\n"
     ]
    }
   ],
   "source": [
    "print(x)"
   ]
  },
  {
   "cell_type": "markdown",
   "id": "9966da2f-6d5c-4cb5-a962-cbe49dc031ce",
   "metadata": {},
   "source": [
    "***Encoding Data Kategori (Atribut)***"
   ]
  },
  {
   "cell_type": "code",
   "execution_count": 12,
   "id": "72a7b9b6-8a28-4c9f-b8ca-22493e6fbd04",
   "metadata": {},
   "outputs": [],
   "source": [
    "from sklearn.compose import ColumnTransformer\n",
    "from sklearn.preprocessing import OneHotEncoder\n",
    "ct = ColumnTransformer(transformers=[('encoder', OneHotEncoder(), [1,2])], remainder='passthrough')\n",
    "x = np.array(ct.fit_transform(x))"
   ]
  },
  {
   "cell_type": "code",
   "execution_count": 13,
   "id": "f790cee6-958d-4b04-a324-0f044d760830",
   "metadata": {},
   "outputs": [
    {
     "name": "stdout",
     "output_type": "stream",
     "text": [
      "  (0, 88)\t1.0\n",
      "  (0, 179)\t1.0\n",
      "  (0, 182)\t1.0\n",
      "  (0, 183)\t40.0\n",
      "  (0, 184)\t44.0\n",
      "  (0, 185)\t42.0\n",
      "  (0, 186)\t126.0\n",
      "  (1, 15)\t1.0\n",
      "  (1, 105)\t1.0\n",
      "  (1, 182)\t2.0\n",
      "  (1, 183)\t40.0\n",
      "  (1, 184)\t27.0\n",
      "  (1, 185)\t24.0\n",
      "  (1, 186)\t91.0\n",
      "  (2, 46)\t1.0\n",
      "  (2, 138)\t1.0\n",
      "  (2, 182)\t3.0\n",
      "  (2, 183)\t20.0\n",
      "  (2, 184)\t12.0\n",
      "  (2, 185)\t13.0\n",
      "  (2, 186)\t45.0\n",
      "  (3, 4)\t1.0\n",
      "  (3, 95)\t1.0\n",
      "  (3, 182)\t4.0\n",
      "  (3, 183)\t18.0\n",
      "  :\t:\n",
      "  (86, 64)\t1.0\n",
      "  (86, 155)\t1.0\n",
      "  (86, 182)\t84.0\n",
      "  (86, 185)\t1.0\n",
      "  (86, 186)\t1.0\n",
      "  (87, 69)\t1.0\n",
      "  (87, 162)\t1.0\n",
      "  (87, 182)\t84.0\n",
      "  (87, 185)\t1.0\n",
      "  (87, 186)\t1.0\n",
      "  (88, 73)\t1.0\n",
      "  (88, 166)\t1.0\n",
      "  (88, 182)\t84.0\n",
      "  (88, 185)\t1.0\n",
      "  (88, 186)\t1.0\n",
      "  (89, 74)\t1.0\n",
      "  (89, 169)\t1.0\n",
      "  (89, 182)\t84.0\n",
      "  (89, 185)\t1.0\n",
      "  (89, 186)\t1.0\n",
      "  (90, 90)\t1.0\n",
      "  (90, 181)\t1.0\n",
      "  (90, 182)\t84.0\n",
      "  (90, 185)\t1.0\n",
      "  (90, 186)\t1.0\n"
     ]
    }
   ],
   "source": [
    "print(x)"
   ]
  },
  {
   "cell_type": "markdown",
   "id": "af4ac901-58aa-40c6-abcb-8c87072694eb",
   "metadata": {},
   "source": [
    "***Encoding data kategori (Label)***"
   ]
  },
  {
   "cell_type": "code",
   "execution_count": 14,
   "id": "b4cebba7-43f7-4ed3-a89a-ed19e827198f",
   "metadata": {},
   "outputs": [],
   "source": [
    "from sklearn.preprocessing import LabelEncoder\n",
    "# Encoding target \"Purchased\" menggunakan LabelEncoder\n",
    "le = LabelEncoder()\n",
    "y = le.fit_transform(y)"
   ]
  },
  {
   "cell_type": "code",
   "execution_count": 15,
   "id": "422a5d92-cda3-46df-bf30-0d8043fdfd8b",
   "metadata": {},
   "outputs": [
    {
     "name": "stdout",
     "output_type": "stream",
     "text": [
      "[26 25 21 22 23 19 24 17 20 18 15 16 12 14 13 10 10  7  6 15 11 11  8  6\n",
      "  9  6  4  4  8  6  6  8  3  2  6  4  3  3  2  2  6  9  6  5  5  5  3  7\n",
      "  4  3  7  2  2  2  1  1  1  1  2  1  1  0  0  7  4  3  3  5  5  3  5  3\n",
      "  1  0  0  0  0  0  2  1  1  1  1  0  0  0  0  0  0  0  0]\n"
     ]
    }
   ],
   "source": [
    "print(y)"
   ]
  },
  {
   "cell_type": "markdown",
   "id": "794ce9ad-d059-4582-b7ca-f89bc0a338a0",
   "metadata": {},
   "source": [
    "***Membagi dataset ke dalam training set dan test set***"
   ]
  },
  {
   "cell_type": "code",
   "execution_count": 16,
   "id": "749a5739-a6e6-4d15-a873-a880243df69f",
   "metadata": {},
   "outputs": [
    {
     "ename": "TypeError",
     "evalue": "Singleton array array(<91x187 sparse matrix of type '<class 'numpy.float64'>'\n\twith 568 stored elements in Compressed Sparse Row format>, dtype=object) cannot be considered a valid collection.",
     "output_type": "error",
     "traceback": [
      "\u001b[1;31m---------------------------------------------------------------------------\u001b[0m",
      "\u001b[1;31mTypeError\u001b[0m                                 Traceback (most recent call last)",
      "Cell \u001b[1;32mIn[16], line 7\u001b[0m\n\u001b[0;32m      2\u001b[0m \u001b[38;5;28;01mfrom\u001b[39;00m \u001b[38;5;21;01msklearn\u001b[39;00m\u001b[38;5;21;01m.\u001b[39;00m\u001b[38;5;21;01mmodel_selection\u001b[39;00m \u001b[38;5;28;01mimport\u001b[39;00m RepeatedStratifiedKFold\n\u001b[0;32m      6\u001b[0m \u001b[38;5;66;03m# test_size = 0.2 berarti 20% dari data akan digunakan untuk pengujian\u001b[39;00m\n\u001b[1;32m----> 7\u001b[0m x_train, x_test, y_train, y_test \u001b[38;5;241m=\u001b[39m \u001b[43mtrain_test_split\u001b[49m\u001b[43m(\u001b[49m\u001b[43mx\u001b[49m\u001b[43m,\u001b[49m\u001b[43my\u001b[49m\u001b[43m,\u001b[49m\u001b[43m \u001b[49m\u001b[43mtest_size\u001b[49m\u001b[43m \u001b[49m\u001b[38;5;241;43m=\u001b[39;49m\u001b[43m \u001b[49m\u001b[38;5;241;43m0.3\u001b[39;49m\u001b[43m,\u001b[49m\u001b[43m \u001b[49m\u001b[43mrandom_state\u001b[49m\u001b[43m \u001b[49m\u001b[38;5;241;43m=\u001b[39;49m\u001b[43m \u001b[49m\u001b[38;5;241;43m0\u001b[39;49m\u001b[43m)\u001b[49m\n",
      "File \u001b[1;32m~\\AppData\\Local\\Programs\\Python\\Python312\\Lib\\site-packages\\sklearn\\utils\\_param_validation.py:213\u001b[0m, in \u001b[0;36mvalidate_params.<locals>.decorator.<locals>.wrapper\u001b[1;34m(*args, **kwargs)\u001b[0m\n\u001b[0;32m    207\u001b[0m \u001b[38;5;28;01mtry\u001b[39;00m:\n\u001b[0;32m    208\u001b[0m     \u001b[38;5;28;01mwith\u001b[39;00m config_context(\n\u001b[0;32m    209\u001b[0m         skip_parameter_validation\u001b[38;5;241m=\u001b[39m(\n\u001b[0;32m    210\u001b[0m             prefer_skip_nested_validation \u001b[38;5;129;01mor\u001b[39;00m global_skip_validation\n\u001b[0;32m    211\u001b[0m         )\n\u001b[0;32m    212\u001b[0m     ):\n\u001b[1;32m--> 213\u001b[0m         \u001b[38;5;28;01mreturn\u001b[39;00m \u001b[43mfunc\u001b[49m\u001b[43m(\u001b[49m\u001b[38;5;241;43m*\u001b[39;49m\u001b[43margs\u001b[49m\u001b[43m,\u001b[49m\u001b[43m \u001b[49m\u001b[38;5;241;43m*\u001b[39;49m\u001b[38;5;241;43m*\u001b[39;49m\u001b[43mkwargs\u001b[49m\u001b[43m)\u001b[49m\n\u001b[0;32m    214\u001b[0m \u001b[38;5;28;01mexcept\u001b[39;00m InvalidParameterError \u001b[38;5;28;01mas\u001b[39;00m e:\n\u001b[0;32m    215\u001b[0m     \u001b[38;5;66;03m# When the function is just a wrapper around an estimator, we allow\u001b[39;00m\n\u001b[0;32m    216\u001b[0m     \u001b[38;5;66;03m# the function to delegate validation to the estimator, but we replace\u001b[39;00m\n\u001b[0;32m    217\u001b[0m     \u001b[38;5;66;03m# the name of the estimator by the name of the function in the error\u001b[39;00m\n\u001b[0;32m    218\u001b[0m     \u001b[38;5;66;03m# message to avoid confusion.\u001b[39;00m\n\u001b[0;32m    219\u001b[0m     msg \u001b[38;5;241m=\u001b[39m re\u001b[38;5;241m.\u001b[39msub(\n\u001b[0;32m    220\u001b[0m         \u001b[38;5;124mr\u001b[39m\u001b[38;5;124m\"\u001b[39m\u001b[38;5;124mparameter of \u001b[39m\u001b[38;5;124m\\\u001b[39m\u001b[38;5;124mw+ must be\u001b[39m\u001b[38;5;124m\"\u001b[39m,\n\u001b[0;32m    221\u001b[0m         \u001b[38;5;124mf\u001b[39m\u001b[38;5;124m\"\u001b[39m\u001b[38;5;124mparameter of \u001b[39m\u001b[38;5;132;01m{\u001b[39;00mfunc\u001b[38;5;241m.\u001b[39m\u001b[38;5;18m__qualname__\u001b[39m\u001b[38;5;132;01m}\u001b[39;00m\u001b[38;5;124m must be\u001b[39m\u001b[38;5;124m\"\u001b[39m,\n\u001b[0;32m    222\u001b[0m         \u001b[38;5;28mstr\u001b[39m(e),\n\u001b[0;32m    223\u001b[0m     )\n",
      "File \u001b[1;32m~\\AppData\\Local\\Programs\\Python\\Python312\\Lib\\site-packages\\sklearn\\model_selection\\_split.py:2657\u001b[0m, in \u001b[0;36mtrain_test_split\u001b[1;34m(test_size, train_size, random_state, shuffle, stratify, *arrays)\u001b[0m\n\u001b[0;32m   2654\u001b[0m \u001b[38;5;28;01mif\u001b[39;00m n_arrays \u001b[38;5;241m==\u001b[39m \u001b[38;5;241m0\u001b[39m:\n\u001b[0;32m   2655\u001b[0m     \u001b[38;5;28;01mraise\u001b[39;00m \u001b[38;5;167;01mValueError\u001b[39;00m(\u001b[38;5;124m\"\u001b[39m\u001b[38;5;124mAt least one array required as input\u001b[39m\u001b[38;5;124m\"\u001b[39m)\n\u001b[1;32m-> 2657\u001b[0m arrays \u001b[38;5;241m=\u001b[39m \u001b[43mindexable\u001b[49m\u001b[43m(\u001b[49m\u001b[38;5;241;43m*\u001b[39;49m\u001b[43marrays\u001b[49m\u001b[43m)\u001b[49m\n\u001b[0;32m   2659\u001b[0m n_samples \u001b[38;5;241m=\u001b[39m _num_samples(arrays[\u001b[38;5;241m0\u001b[39m])\n\u001b[0;32m   2660\u001b[0m n_train, n_test \u001b[38;5;241m=\u001b[39m _validate_shuffle_split(\n\u001b[0;32m   2661\u001b[0m     n_samples, test_size, train_size, default_test_size\u001b[38;5;241m=\u001b[39m\u001b[38;5;241m0.25\u001b[39m\n\u001b[0;32m   2662\u001b[0m )\n",
      "File \u001b[1;32m~\\AppData\\Local\\Programs\\Python\\Python312\\Lib\\site-packages\\sklearn\\utils\\validation.py:514\u001b[0m, in \u001b[0;36mindexable\u001b[1;34m(*iterables)\u001b[0m\n\u001b[0;32m    484\u001b[0m \u001b[38;5;250m\u001b[39m\u001b[38;5;124;03m\"\"\"Make arrays indexable for cross-validation.\u001b[39;00m\n\u001b[0;32m    485\u001b[0m \n\u001b[0;32m    486\u001b[0m \u001b[38;5;124;03mChecks consistent length, passes through None, and ensures that everything\u001b[39;00m\n\u001b[1;32m   (...)\u001b[0m\n\u001b[0;32m    510\u001b[0m \u001b[38;5;124;03m[[1, 2, 3], array([2, 3, 4]), None, <3x1 sparse matrix ...>]\u001b[39;00m\n\u001b[0;32m    511\u001b[0m \u001b[38;5;124;03m\"\"\"\u001b[39;00m\n\u001b[0;32m    513\u001b[0m result \u001b[38;5;241m=\u001b[39m [_make_indexable(X) \u001b[38;5;28;01mfor\u001b[39;00m X \u001b[38;5;129;01min\u001b[39;00m iterables]\n\u001b[1;32m--> 514\u001b[0m \u001b[43mcheck_consistent_length\u001b[49m\u001b[43m(\u001b[49m\u001b[38;5;241;43m*\u001b[39;49m\u001b[43mresult\u001b[49m\u001b[43m)\u001b[49m\n\u001b[0;32m    515\u001b[0m \u001b[38;5;28;01mreturn\u001b[39;00m result\n",
      "File \u001b[1;32m~\\AppData\\Local\\Programs\\Python\\Python312\\Lib\\site-packages\\sklearn\\utils\\validation.py:454\u001b[0m, in \u001b[0;36mcheck_consistent_length\u001b[1;34m(*arrays)\u001b[0m\n\u001b[0;32m    436\u001b[0m \u001b[38;5;28;01mdef\u001b[39;00m \u001b[38;5;21mcheck_consistent_length\u001b[39m(\u001b[38;5;241m*\u001b[39marrays):\n\u001b[0;32m    437\u001b[0m \u001b[38;5;250m    \u001b[39m\u001b[38;5;124;03m\"\"\"Check that all arrays have consistent first dimensions.\u001b[39;00m\n\u001b[0;32m    438\u001b[0m \n\u001b[0;32m    439\u001b[0m \u001b[38;5;124;03m    Checks whether all objects in arrays have the same shape or length.\u001b[39;00m\n\u001b[1;32m   (...)\u001b[0m\n\u001b[0;32m    451\u001b[0m \u001b[38;5;124;03m    >>> check_consistent_length(a, b)\u001b[39;00m\n\u001b[0;32m    452\u001b[0m \u001b[38;5;124;03m    \"\"\"\u001b[39;00m\n\u001b[1;32m--> 454\u001b[0m     lengths \u001b[38;5;241m=\u001b[39m [\u001b[43m_num_samples\u001b[49m\u001b[43m(\u001b[49m\u001b[43mX\u001b[49m\u001b[43m)\u001b[49m \u001b[38;5;28;01mfor\u001b[39;00m X \u001b[38;5;129;01min\u001b[39;00m arrays \u001b[38;5;28;01mif\u001b[39;00m X \u001b[38;5;129;01mis\u001b[39;00m \u001b[38;5;129;01mnot\u001b[39;00m \u001b[38;5;28;01mNone\u001b[39;00m]\n\u001b[0;32m    455\u001b[0m     uniques \u001b[38;5;241m=\u001b[39m np\u001b[38;5;241m.\u001b[39munique(lengths)\n\u001b[0;32m    456\u001b[0m     \u001b[38;5;28;01mif\u001b[39;00m \u001b[38;5;28mlen\u001b[39m(uniques) \u001b[38;5;241m>\u001b[39m \u001b[38;5;241m1\u001b[39m:\n",
      "File \u001b[1;32m~\\AppData\\Local\\Programs\\Python\\Python312\\Lib\\site-packages\\sklearn\\utils\\validation.py:382\u001b[0m, in \u001b[0;36m_num_samples\u001b[1;34m(x)\u001b[0m\n\u001b[0;32m    380\u001b[0m \u001b[38;5;28;01mif\u001b[39;00m \u001b[38;5;28mhasattr\u001b[39m(x, \u001b[38;5;124m\"\u001b[39m\u001b[38;5;124mshape\u001b[39m\u001b[38;5;124m\"\u001b[39m) \u001b[38;5;129;01mand\u001b[39;00m x\u001b[38;5;241m.\u001b[39mshape \u001b[38;5;129;01mis\u001b[39;00m \u001b[38;5;129;01mnot\u001b[39;00m \u001b[38;5;28;01mNone\u001b[39;00m:\n\u001b[0;32m    381\u001b[0m     \u001b[38;5;28;01mif\u001b[39;00m \u001b[38;5;28mlen\u001b[39m(x\u001b[38;5;241m.\u001b[39mshape) \u001b[38;5;241m==\u001b[39m \u001b[38;5;241m0\u001b[39m:\n\u001b[1;32m--> 382\u001b[0m         \u001b[38;5;28;01mraise\u001b[39;00m \u001b[38;5;167;01mTypeError\u001b[39;00m(\n\u001b[0;32m    383\u001b[0m             \u001b[38;5;124m\"\u001b[39m\u001b[38;5;124mSingleton array \u001b[39m\u001b[38;5;132;01m%r\u001b[39;00m\u001b[38;5;124m cannot be considered a valid collection.\u001b[39m\u001b[38;5;124m\"\u001b[39m \u001b[38;5;241m%\u001b[39m x\n\u001b[0;32m    384\u001b[0m         )\n\u001b[0;32m    385\u001b[0m     \u001b[38;5;66;03m# Check that shape is returning an integer or default to len\u001b[39;00m\n\u001b[0;32m    386\u001b[0m     \u001b[38;5;66;03m# Dask dataframes may not return numeric shape[0] value\u001b[39;00m\n\u001b[0;32m    387\u001b[0m     \u001b[38;5;28;01mif\u001b[39;00m \u001b[38;5;28misinstance\u001b[39m(x\u001b[38;5;241m.\u001b[39mshape[\u001b[38;5;241m0\u001b[39m], numbers\u001b[38;5;241m.\u001b[39mIntegral):\n",
      "\u001b[1;31mTypeError\u001b[0m: Singleton array array(<91x187 sparse matrix of type '<class 'numpy.float64'>'\n\twith 568 stored elements in Compressed Sparse Row format>, dtype=object) cannot be considered a valid collection."
     ]
    }
   ],
   "source": [
    "from sklearn.model_selection import train_test_split\n",
    "from sklearn.model_selection import RepeatedStratifiedKFold\n",
    "\n",
    "\n",
    "\n",
    "# test_size = 0.2 berarti 20% dari data akan digunakan untuk pengujian\n",
    "x_train, x_test, y_train, y_test = train_test_split(x,y, test_size = 0.3, random_state = 0)"
   ]
  },
  {
   "cell_type": "code",
   "execution_count": null,
   "id": "62f72740-b63b-497f-a3ae-4bb38f18e6e8",
   "metadata": {},
   "outputs": [],
   "source": []
  }
 ],
 "metadata": {
  "kernelspec": {
   "display_name": "Python 3 (ipykernel)",
   "language": "python",
   "name": "python3"
  },
  "language_info": {
   "codemirror_mode": {
    "name": "ipython",
    "version": 3
   },
   "file_extension": ".py",
   "mimetype": "text/x-python",
   "name": "python",
   "nbconvert_exporter": "python",
   "pygments_lexer": "ipython3",
   "version": "3.12.2"
  }
 },
 "nbformat": 4,
 "nbformat_minor": 5
}
