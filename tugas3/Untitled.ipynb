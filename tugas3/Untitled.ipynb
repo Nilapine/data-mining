{
 "cells": [
  {
   "cell_type": "markdown",
   "id": "10327341-50c4-4a2c-b3f3-094b498f6da3",
   "metadata": {},
   "source": [
    "***Pertemuan 3***\n"
   ]
  },
  {
   "cell_type": "markdown",
   "id": "b8e96aef-e3dc-483d-934e-5143c843df0d",
   "metadata": {},
   "source": [
    "***Missing Values***"
   ]
  },
  {
   "cell_type": "markdown",
   "id": "2e91112c-56db-4227-9713-592782a98de1",
   "metadata": {},
   "source": [
    "***Import Library***"
   ]
  },
  {
   "cell_type": "code",
   "execution_count": 12,
   "id": "ef382b97-2be3-4f90-90f8-e107d439e1ed",
   "metadata": {},
   "outputs": [],
   "source": [
    "import numpy as np\n",
    "import matplotlib.pyplot as plt\n",
    "import pandas as pd"
   ]
  },
  {
   "cell_type": "markdown",
   "id": "702de719-5f0b-4b46-a376-175a21eb79e6",
   "metadata": {},
   "source": [
    "***Import Dataset***"
   ]
  },
  {
   "cell_type": "code",
   "execution_count": 25,
   "id": "20535a80-16fd-4015-9454-09a46ac29fa1",
   "metadata": {},
   "outputs": [],
   "source": [
    "dataset=pd.read_csv('Olympics2024.csv')\n",
    "x=dataset.iloc[:, :].values\n",
    "y=dataset.iloc[:, -1].values"
   ]
  },
  {
   "cell_type": "code",
   "execution_count": 26,
   "id": "d7fb3e5e-01fb-4fd4-9e02-894524a4d3e1",
   "metadata": {},
   "outputs": [
    {
     "name": "stdout",
     "output_type": "stream",
     "text": [
      "[[1 'United States' 'US' 40 44 42 126]\n",
      " [2 'China' 'CHN' 40 27 24 91]\n",
      " [3 'Japan' 'JPN' 20 12 13 45]\n",
      " [4 'Australia' 'AUS' 18 19 16 53]\n",
      " [5 'France' 'FRA' 16 26 22 64]\n",
      " [6 'Netherlands' 'NED' 15 7 12 34]\n",
      " [7 'Great Britain' 'GBG' 14 22 29 65]\n",
      " [8 'South Korea' 'KOR' 13 9 10 32]\n",
      " [9 'Italy' 'ITA' 12 13 15 40]\n",
      " [10 'Germany' 'GER' 12 13 8 33]\n",
      " [11 'New Zealand' 'NZ' 10 7 3 20]\n",
      " [12 'Canada' 'CAN' 9 7 11 27]\n",
      " [13 'Uzbekistan' 'UZB' 8 2 3 13]\n",
      " [14 'Hungary' 'HUN' 6 7 6 19]\n",
      " [15 'Spain' 'SPA' 5 4 9 18]\n",
      " [16 'Sweden' 'SWE' 4 4 3 11]\n",
      " [17 'Kenya' 'KEN' 4 2 5 11]\n",
      " [18 'Norway' 'NOR' 4 1 3 8]\n",
      " [19 'Ireland' 'IRE' 4 0 3 7]\n",
      " [20 'Brazil' 'BRZ' 3 7 10 20]\n",
      " [21 'Iran' 'IRN' 3 6 3 12]\n",
      " [22 'Ukraine' 'UKR' 3 5 4 12]\n",
      " [23 'Romania' 'ROM' 3 4 2 9]\n",
      " [24 'Georgia' 'GEO' 3 3 1 7]\n",
      " [25 'Belgium' 'BEL' 3 1 6 10]\n",
      " [26 'Bulgaria' 'BUL' 3 1 3 7]\n",
      " [27 'Serbia' 'SER' 3 1 1 5]\n",
      " [28 'Czech Republic' 'CZE' 3 0 2 5]\n",
      " [29 'Denmark' 'DEN' 2 2 5 9]\n",
      " [30 'Azerbaijan' 'AZE' 2 2 3 7]\n",
      " [30 'Croatia' 'CRO' 2 2 3 7]\n",
      " [32 'Cuba' 'CUB' 2 1 6 9]\n",
      " [33 'Bahrain' 'BHR' 2 1 1 4]\n",
      " [34 'Slovenia' 'SLO' 2 1 0 3]\n",
      " [35 'Chinese Taipei' 'TPE' 2 0 5 7]\n",
      " [36 'Austria' 'AUT' 2 0 3 5]\n",
      " [37 'Hong Kong' 'HK' 2 0 2 4]\n",
      " [37 'Philippines' 'PHI' 2 0 2 4]\n",
      " [39 'Algeria' 'ALG' 2 0 1 3]\n",
      " [39 'Indonesia' 'IDN' 2 0 1 3]\n",
      " [41 'Israel' 'ISR' 1 5 1 7]\n",
      " [42 'Poland' 'POL' 1 4 5 10]\n",
      " [43 'Kazakhstan' 'KAZ' 1 3 3 7]\n",
      " [44 'Jamaica' 'JAM' 1 3 2 6]\n",
      " [44 'South Africa' 'SA' 1 3 2 6]\n",
      " [44 'Thailand' 'THA' 1 3 2 6]\n",
      " [47 'Ethiopia' 'ETH' 1 3 0 4]\n",
      " [48 'Switzerland' 'SWI' 1 2 5 8]\n",
      " [49 'Ecuador' 'ECU' 1 2 2 5]\n",
      " [50 'Portugal' 'POR' 1 2 1 4]\n",
      " [51 'Greece' 'GRE' 1 1 6 8]\n",
      " [52 'Argentina' 'ARG' 1 1 1 3]\n",
      " [52 'Egypt' 'EGY' 1 1 1 3]\n",
      " [52 'Tunisia' 'TUN' 1 1 1 3]\n",
      " [55 'Botswana' 'BOT' 1 1 0 2]\n",
      " [55 'Chile' 'CHI' 1 1 0 2]\n",
      " [55 'St Lucia' 'LCA' 1 1 0 2]\n",
      " [55 'Uganda' 'UGA' 1 1 0 2]\n",
      " [59 'Dominican Republic' 'DOM' 1 0 2 3]\n",
      " [60 'Guatemala' 'GUA' 1 0 1 2]\n",
      " [60 'Morocco' 'MOR' 1 0 1 2]\n",
      " [62 'Dominica' 'DMA' 1 0 0 1]\n",
      " [62 'Pakistan' 'PKN' 1 0 0 1]\n",
      " [64 'Turkey' 'TUR' 0 3 5 8]\n",
      " [65 'Mexico' 'MEX' 0 3 2 5]\n",
      " [66 'Armenia' 'ARM' 0 3 1 4]\n",
      " [66 'Colombia' 'COL' 0 3 1 4]\n",
      " [68 'North Korea' 'PRK' 0 2 4 6]\n",
      " [68 'Kyrgyzstan' 'KGZ' 0 2 4 6]\n",
      " [70 'Lithuania' 'LTU' 0 2 2 4]\n",
      " [71 'India' 'IND' 0 1 5 6]\n",
      " [72 'Moldova' 'MDA' 0 1 3 4]\n",
      " [73 'Kosovo' 'KOS' 0 1 1 2]\n",
      " [74 'Cyprus' 'CYP' 0 1 0 1]\n",
      " [74 'Fiji' 'FIJ' 0 1 0 1]\n",
      " [74 'Jordan' 'JOR' 0 1 0 1]\n",
      " [74 'Mongolia' 'MGL' 0 1 0 1]\n",
      " [74 'Panama' 'PAN' 0 1 0 1]\n",
      " [79 'Tajikistan' 'TJK' 0 0 3 3]\n",
      " [80 'Albania' 'ALB' 0 0 2 2]\n",
      " [80 'Grenada' 'GRN' 0 0 2 2]\n",
      " [80 'Malaysia' 'MAS' 0 0 2 2]\n",
      " [80 'Puerto Rico' 'PUR' 0 0 2 2]\n",
      " [84 'Cape Verde' 'CPV' 0 0 1 1]\n",
      " [84 'Ivory Coast' 'CIV' 0 0 1 1]\n",
      " [84 'Refugee Olympic Team' 'EOR' 0 0 1 1]\n",
      " [84 'Peru' 'PER' 0 0 1 1]\n",
      " [84 'Qatar' 'QAT' 0 0 1 1]\n",
      " [84 'Singapore' 'SIN' 0 0 1 1]\n",
      " [84 'Slovakia' 'SVK' 0 0 1 1]\n",
      " [84 'Zambia' 'ZAM' 0 0 1 1]]\n"
     ]
    }
   ],
   "source": [
    "print(x)"
   ]
  },
  {
   "cell_type": "code",
   "execution_count": 27,
   "id": "c3e4c395-ec8a-4f84-8e8f-72c62664654b",
   "metadata": {},
   "outputs": [
    {
     "name": "stdout",
     "output_type": "stream",
     "text": [
      "[126  91  45  53  64  34  65  32  40  33  20  27  13  19  18  11  11   8\n",
      "   7  20  12  12   9   7  10   7   5   5   9   7   7   9   4   3   7   5\n",
      "   4   4   3   3   7  10   7   6   6   6   4   8   5   4   8   3   3   3\n",
      "   2   2   2   2   3   2   2   1   1   8   5   4   4   6   6   4   6   4\n",
      "   2   1   1   1   1   1   3   2   2   2   2   1   1   1   1   1   1   1\n",
      "   1]\n"
     ]
    }
   ],
   "source": [
    "print(y)"
   ]
  },
  {
   "cell_type": "code",
   "execution_count": 28,
   "id": "21b07234-4f34-46d6-9f1a-071911773994",
   "metadata": {},
   "outputs": [
    {
     "name": "stdout",
     "output_type": "stream",
     "text": [
      "<class 'pandas.core.frame.DataFrame'>\n",
      "RangeIndex: 91 entries, 0 to 90\n",
      "Data columns (total 7 columns):\n",
      " #   Column        Non-Null Count  Dtype \n",
      "---  ------        --------------  ----- \n",
      " 0   Rank          91 non-null     int64 \n",
      " 1   Country       91 non-null     object\n",
      " 2   Country Code  91 non-null     object\n",
      " 3   Gold          91 non-null     int64 \n",
      " 4   Silver        91 non-null     int64 \n",
      " 5   Bronze        91 non-null     int64 \n",
      " 6   Total         91 non-null     int64 \n",
      "dtypes: int64(5), object(2)\n",
      "memory usage: 5.1+ KB\n",
      "None\n"
     ]
    }
   ],
   "source": [
    "print(dataset.info())"
   ]
  },
  {
   "cell_type": "markdown",
   "id": "64745437-10a0-4f82-9dce-7c7e2c94c3c8",
   "metadata": {},
   "source": [
    "***Menghilangkan Missing Value***\n"
   ]
  },
  {
   "cell_type": "code",
   "execution_count": 22,
   "id": "c3c661f9-51e4-4811-97b9-473cee3b916d",
   "metadata": {},
   "outputs": [
    {
     "name": "stdout",
     "output_type": "stream",
     "text": [
      "Rank            0\n",
      "Country         0\n",
      "Country Code    0\n",
      "Gold            0\n",
      "Silver          0\n",
      "Bronze          0\n",
      "Total           0\n",
      "dtype: int64\n"
     ]
    }
   ],
   "source": [
    "# periksa nilai yang hilang di setiap kolom\n",
    "print(dataset.isnull().sum())"
   ]
  },
  {
   "cell_type": "code",
   "execution_count": 29,
   "id": "88a9ec76-0565-4f09-8525-ddec2557a355",
   "metadata": {},
   "outputs": [
    {
     "ename": "NameError",
     "evalue": "name 'X' is not defined",
     "output_type": "error",
     "traceback": [
      "\u001b[1;31m---------------------------------------------------------------------------\u001b[0m",
      "\u001b[1;31mNameError\u001b[0m                                 Traceback (most recent call last)",
      "Cell \u001b[1;32mIn[29], line 3\u001b[0m\n\u001b[0;32m      1\u001b[0m \u001b[38;5;28;01mfrom\u001b[39;00m \u001b[38;5;21;01msklearn\u001b[39;00m\u001b[38;5;21;01m.\u001b[39;00m\u001b[38;5;21;01mimpute\u001b[39;00m \u001b[38;5;28;01mimport\u001b[39;00m SimpleImputer\n\u001b[0;32m      2\u001b[0m imputer \u001b[38;5;241m=\u001b[39m SimpleImputer(missing_values\u001b[38;5;241m=\u001b[39mnp\u001b[38;5;241m.\u001b[39mnan, strategy\u001b[38;5;241m=\u001b[39m\u001b[38;5;124m'\u001b[39m\u001b[38;5;124mmean\u001b[39m\u001b[38;5;124m'\u001b[39m)\n\u001b[1;32m----> 3\u001b[0m imputer\u001b[38;5;241m.\u001b[39mfit(\u001b[43mX\u001b[49m[:, \u001b[38;5;241m1\u001b[39m:\u001b[38;5;241m3\u001b[39m])\n\u001b[0;32m      4\u001b[0m X[:, \u001b[38;5;241m1\u001b[39m:\u001b[38;5;241m3\u001b[39m] \u001b[38;5;241m=\u001b[39m imputer\u001b[38;5;241m.\u001b[39mtransform(X[:, \u001b[38;5;241m1\u001b[39m:\u001b[38;5;241m3\u001b[39m])\n",
      "\u001b[1;31mNameError\u001b[0m: name 'X' is not defined"
     ]
    }
   ],
   "source": [
    "from sklearn.impute import SimpleImputer\n",
    "imputer = SimpleImputer(missing_values=np.nan, strategy='mean')\n",
    "imputer.fit(X[:, 1:3])\n",
    "X[:, 1:3] = imputer.transform(X[:, 1:3])"
   ]
  },
  {
   "cell_type": "code",
   "execution_count": null,
   "id": "9d4a080d-6b63-4b59-9222-2bdf85d2738f",
   "metadata": {},
   "outputs": [],
   "source": []
  }
 ],
 "metadata": {
  "kernelspec": {
   "display_name": "Python 3 (ipykernel)",
   "language": "python",
   "name": "python3"
  },
  "language_info": {
   "codemirror_mode": {
    "name": "ipython",
    "version": 3
   },
   "file_extension": ".py",
   "mimetype": "text/x-python",
   "name": "python",
   "nbconvert_exporter": "python",
   "pygments_lexer": "ipython3",
   "version": "3.12.2"
  }
 },
 "nbformat": 4,
 "nbformat_minor": 5
}
